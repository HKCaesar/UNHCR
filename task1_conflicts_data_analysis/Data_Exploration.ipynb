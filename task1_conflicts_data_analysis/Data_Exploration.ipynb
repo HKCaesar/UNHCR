{
 "cells": [
  {
   "cell_type": "code",
   "execution_count": 1,
   "metadata": {},
   "outputs": [],
   "source": [
    "import sys\n",
    "sys.path.append(r'/opt/local/bin/python2.7/')\n",
    "sys.path.append(r'/Library/Frameworks/Python.framework/Versions/3.6/lib/python3.6/site-packages/SciServer-1.10.2-py3.6.egg')\n",
    "sys.path.append(r'/Library/Frameworks/Python.framework/Versions/3.6/lib/python3.6/site-packages/')"
   ]
  },
  {
   "cell_type": "code",
   "execution_count": 2,
   "metadata": {},
   "outputs": [],
   "source": [
    "#os.environ['PROJ_LIB'] = '<path_to_anaconda>/share/proj'"
   ]
  },
  {
   "cell_type": "code",
   "execution_count": 3,
   "metadata": {},
   "outputs": [],
   "source": [
    "import pandas as pd\n",
    "import geopandas as gpd\n",
    "import numpy as np\n",
    "import matplotlib.pyplot as plt\n",
    "import seaborn as sns"
   ]
  },
  {
   "cell_type": "code",
   "execution_count": 211,
   "metadata": {},
   "outputs": [],
   "source": [
    "# from bokeh.plotting import figure, save"
   ]
  },
  {
   "cell_type": "code",
   "execution_count": 5,
   "metadata": {},
   "outputs": [],
   "source": [
    "import rasterio"
   ]
  },
  {
   "cell_type": "code",
   "execution_count": 6,
   "metadata": {},
   "outputs": [],
   "source": [
    "%matplotlib inline"
   ]
  },
  {
   "cell_type": "markdown",
   "metadata": {},
   "source": [
    "# VIolent conflict 2010_2019 with coordinates"
   ]
  },
  {
   "cell_type": "markdown",
   "metadata": {},
   "source": [
    "### Head"
   ]
  },
  {
   "cell_type": "code",
   "execution_count": 7,
   "metadata": {},
   "outputs": [
    {
     "data": {
      "text/html": [
       "<div>\n",
       "<style scoped>\n",
       "    .dataframe tbody tr th:only-of-type {\n",
       "        vertical-align: middle;\n",
       "    }\n",
       "\n",
       "    .dataframe tbody tr th {\n",
       "        vertical-align: top;\n",
       "    }\n",
       "\n",
       "    .dataframe thead th {\n",
       "        text-align: right;\n",
       "    }\n",
       "</style>\n",
       "<table border=\"1\" class=\"dataframe\">\n",
       "  <thead>\n",
       "    <tr style=\"text-align: right;\">\n",
       "      <th></th>\n",
       "      <th>data_id</th>\n",
       "      <th>iso</th>\n",
       "      <th>event_id_cnty</th>\n",
       "      <th>event_id_no_cnty</th>\n",
       "      <th>event_date</th>\n",
       "      <th>year</th>\n",
       "      <th>time_precision</th>\n",
       "      <th>event_type</th>\n",
       "      <th>sub_event_type</th>\n",
       "      <th>actor1</th>\n",
       "      <th>...</th>\n",
       "      <th>location</th>\n",
       "      <th>latitude</th>\n",
       "      <th>longitude</th>\n",
       "      <th>geo_precision</th>\n",
       "      <th>source</th>\n",
       "      <th>source_scale</th>\n",
       "      <th>notes</th>\n",
       "      <th>fatalities</th>\n",
       "      <th>timestamp</th>\n",
       "      <th>iso3</th>\n",
       "    </tr>\n",
       "  </thead>\n",
       "  <tbody>\n",
       "    <tr>\n",
       "      <td>0</td>\n",
       "      <td>5663002</td>\n",
       "      <td>706</td>\n",
       "      <td>SOM29138</td>\n",
       "      <td>29138</td>\n",
       "      <td>27 July 2019</td>\n",
       "      <td>2019</td>\n",
       "      <td>1</td>\n",
       "      <td>Battles</td>\n",
       "      <td>Armed clash</td>\n",
       "      <td>Al Shabaab</td>\n",
       "      <td>...</td>\n",
       "      <td>Balad</td>\n",
       "      <td>2.3500</td>\n",
       "      <td>45.3833</td>\n",
       "      <td>1</td>\n",
       "      <td>Twitter</td>\n",
       "      <td>Other</td>\n",
       "      <td>27 July. Clashes occurred in Balad between AMI...</td>\n",
       "      <td>0</td>\n",
       "      <td>1564426183</td>\n",
       "      <td>SOM</td>\n",
       "    </tr>\n",
       "    <tr>\n",
       "      <td>1</td>\n",
       "      <td>5663003</td>\n",
       "      <td>706</td>\n",
       "      <td>SOM29139</td>\n",
       "      <td>29139</td>\n",
       "      <td>27 July 2019</td>\n",
       "      <td>2019</td>\n",
       "      <td>1</td>\n",
       "      <td>Battles</td>\n",
       "      <td>Armed clash</td>\n",
       "      <td>Military Forces of Somaliland (2010-)</td>\n",
       "      <td>...</td>\n",
       "      <td>Karin Biyood</td>\n",
       "      <td>10.1499</td>\n",
       "      <td>46.1049</td>\n",
       "      <td>1</td>\n",
       "      <td>Twitter</td>\n",
       "      <td>Other</td>\n",
       "      <td>27 July. At least two soldiers were killed whe...</td>\n",
       "      <td>2</td>\n",
       "      <td>1564426183</td>\n",
       "      <td>SOM</td>\n",
       "    </tr>\n",
       "    <tr>\n",
       "      <td>2</td>\n",
       "      <td>5663004</td>\n",
       "      <td>706</td>\n",
       "      <td>SOM29140</td>\n",
       "      <td>29140</td>\n",
       "      <td>27 July 2019</td>\n",
       "      <td>2019</td>\n",
       "      <td>1</td>\n",
       "      <td>Violence against civilians</td>\n",
       "      <td>Attack</td>\n",
       "      <td>Al Shabaab</td>\n",
       "      <td>...</td>\n",
       "      <td>Saakow</td>\n",
       "      <td>1.6394</td>\n",
       "      <td>42.4522</td>\n",
       "      <td>1</td>\n",
       "      <td>Twitter</td>\n",
       "      <td>Other</td>\n",
       "      <td>27 July. Al Shabaab militants executed a man t...</td>\n",
       "      <td>1</td>\n",
       "      <td>1564426183</td>\n",
       "      <td>SOM</td>\n",
       "    </tr>\n",
       "    <tr>\n",
       "      <td>3</td>\n",
       "      <td>5662998</td>\n",
       "      <td>706</td>\n",
       "      <td>SOM29134</td>\n",
       "      <td>29134</td>\n",
       "      <td>26 July 2019</td>\n",
       "      <td>2019</td>\n",
       "      <td>1</td>\n",
       "      <td>Battles</td>\n",
       "      <td>Armed clash</td>\n",
       "      <td>Military Forces of Somalia (2017-) National In...</td>\n",
       "      <td>...</td>\n",
       "      <td>Marka</td>\n",
       "      <td>1.7131</td>\n",
       "      <td>44.7639</td>\n",
       "      <td>1</td>\n",
       "      <td>Shabelle Media Network</td>\n",
       "      <td>Subnational</td>\n",
       "      <td>26 July. Military soldiers clashed with forces...</td>\n",
       "      <td>10</td>\n",
       "      <td>1564426183</td>\n",
       "      <td>SOM</td>\n",
       "    </tr>\n",
       "    <tr>\n",
       "      <td>4</td>\n",
       "      <td>5662999</td>\n",
       "      <td>706</td>\n",
       "      <td>SOM29135</td>\n",
       "      <td>29135</td>\n",
       "      <td>26 July 2019</td>\n",
       "      <td>2019</td>\n",
       "      <td>1</td>\n",
       "      <td>Violence against civilians</td>\n",
       "      <td>Attack</td>\n",
       "      <td>Military Forces of Kenya (2013-)</td>\n",
       "      <td>...</td>\n",
       "      <td>El Wak</td>\n",
       "      <td>2.7352</td>\n",
       "      <td>41.0177</td>\n",
       "      <td>3</td>\n",
       "      <td>Shabelle Media Network</td>\n",
       "      <td>Subnational</td>\n",
       "      <td>26 July. A truck driver heading from Somalia t...</td>\n",
       "      <td>0</td>\n",
       "      <td>1564426183</td>\n",
       "      <td>SOM</td>\n",
       "    </tr>\n",
       "  </tbody>\n",
       "</table>\n",
       "<p>5 rows × 31 columns</p>\n",
       "</div>"
      ],
      "text/plain": [
       "   data_id  iso event_id_cnty  event_id_no_cnty    event_date  year  \\\n",
       "0  5663002  706      SOM29138             29138  27 July 2019  2019   \n",
       "1  5663003  706      SOM29139             29139  27 July 2019  2019   \n",
       "2  5663004  706      SOM29140             29140  27 July 2019  2019   \n",
       "3  5662998  706      SOM29134             29134  26 July 2019  2019   \n",
       "4  5662999  706      SOM29135             29135  26 July 2019  2019   \n",
       "\n",
       "   time_precision                  event_type sub_event_type  \\\n",
       "0               1                     Battles    Armed clash   \n",
       "1               1                     Battles    Armed clash   \n",
       "2               1  Violence against civilians         Attack   \n",
       "3               1                     Battles    Armed clash   \n",
       "4               1  Violence against civilians         Attack   \n",
       "\n",
       "                                              actor1  ...      location  \\\n",
       "0                                         Al Shabaab  ...         Balad   \n",
       "1              Military Forces of Somaliland (2010-)  ...  Karin Biyood   \n",
       "2                                         Al Shabaab  ...        Saakow   \n",
       "3  Military Forces of Somalia (2017-) National In...  ...         Marka   \n",
       "4                   Military Forces of Kenya (2013-)  ...        El Wak   \n",
       "\n",
       "   latitude longitude geo_precision                  source  source_scale  \\\n",
       "0    2.3500   45.3833             1                 Twitter         Other   \n",
       "1   10.1499   46.1049             1                 Twitter         Other   \n",
       "2    1.6394   42.4522             1                 Twitter         Other   \n",
       "3    1.7131   44.7639             1  Shabelle Media Network   Subnational   \n",
       "4    2.7352   41.0177             3  Shabelle Media Network   Subnational   \n",
       "\n",
       "                                               notes fatalities   timestamp  \\\n",
       "0  27 July. Clashes occurred in Balad between AMI...          0  1564426183   \n",
       "1  27 July. At least two soldiers were killed whe...          2  1564426183   \n",
       "2  27 July. Al Shabaab militants executed a man t...          1  1564426183   \n",
       "3  26 July. Military soldiers clashed with forces...         10  1564426183   \n",
       "4  26 July. A truck driver heading from Somalia t...          0  1564426183   \n",
       "\n",
       "  iso3  \n",
       "0  SOM  \n",
       "1  SOM  \n",
       "2  SOM  \n",
       "3  SOM  \n",
       "4  SOM  \n",
       "\n",
       "[5 rows x 31 columns]"
      ]
     },
     "execution_count": 7,
     "metadata": {},
     "output_type": "execute_result"
    }
   ],
   "source": [
    "VC_data = pd.read_csv(\"VIolent conflict 2010_2019 with coordinates.csv\")\n",
    "VC_data.head()"
   ]
  },
  {
   "cell_type": "markdown",
   "metadata": {},
   "source": [
    "### Data COLs"
   ]
  },
  {
   "cell_type": "code",
   "execution_count": 8,
   "metadata": {},
   "outputs": [
    {
     "data": {
      "text/plain": [
       "Index(['data_id', 'iso', 'event_id_cnty', 'event_id_no_cnty', 'event_date',\n",
       "       'year', 'time_precision', 'event_type', 'sub_event_type', 'actor1',\n",
       "       'assoc_actor_1', 'inter1', 'actor2', 'assoc_actor_2', 'inter2',\n",
       "       'interaction', 'region', 'country', 'admin1', 'admin2', 'admin3',\n",
       "       'location', 'latitude', 'longitude', 'geo_precision', 'source',\n",
       "       'source_scale', 'notes', 'fatalities', 'timestamp', 'iso3'],\n",
       "      dtype='object')"
      ]
     },
     "execution_count": 8,
     "metadata": {},
     "output_type": "execute_result"
    }
   ],
   "source": [
    "VC_data.columns"
   ]
  },
  {
   "cell_type": "markdown",
   "metadata": {},
   "source": [
    "## Event in 2018 & 2019"
   ]
  },
  {
   "cell_type": "code",
   "execution_count": 9,
   "metadata": {},
   "outputs": [],
   "source": [
    "event_18_19 = VC_data.loc[(VC_data.year==2019) | (VC_data.year==2018) , ['event_date',\"event_type\",\"location\",\n",
    "                                               \"latitude\",\"longitude\",'geo_precision','fatalities']]"
   ]
  },
  {
   "cell_type": "code",
   "execution_count": 10,
   "metadata": {},
   "outputs": [
    {
     "data": {
      "text/html": [
       "<div>\n",
       "<style scoped>\n",
       "    .dataframe tbody tr th:only-of-type {\n",
       "        vertical-align: middle;\n",
       "    }\n",
       "\n",
       "    .dataframe tbody tr th {\n",
       "        vertical-align: top;\n",
       "    }\n",
       "\n",
       "    .dataframe thead th {\n",
       "        text-align: right;\n",
       "    }\n",
       "</style>\n",
       "<table border=\"1\" class=\"dataframe\">\n",
       "  <thead>\n",
       "    <tr style=\"text-align: right;\">\n",
       "      <th></th>\n",
       "      <th>event_date</th>\n",
       "      <th>event_type</th>\n",
       "      <th>location</th>\n",
       "      <th>latitude</th>\n",
       "      <th>longitude</th>\n",
       "      <th>geo_precision</th>\n",
       "      <th>fatalities</th>\n",
       "    </tr>\n",
       "  </thead>\n",
       "  <tbody>\n",
       "    <tr>\n",
       "      <td>0</td>\n",
       "      <td>27 July 2019</td>\n",
       "      <td>Battles</td>\n",
       "      <td>Balad</td>\n",
       "      <td>2.3500</td>\n",
       "      <td>45.3833</td>\n",
       "      <td>1</td>\n",
       "      <td>0</td>\n",
       "    </tr>\n",
       "    <tr>\n",
       "      <td>1</td>\n",
       "      <td>27 July 2019</td>\n",
       "      <td>Battles</td>\n",
       "      <td>Karin Biyood</td>\n",
       "      <td>10.1499</td>\n",
       "      <td>46.1049</td>\n",
       "      <td>1</td>\n",
       "      <td>2</td>\n",
       "    </tr>\n",
       "    <tr>\n",
       "      <td>2</td>\n",
       "      <td>27 July 2019</td>\n",
       "      <td>Violence against civilians</td>\n",
       "      <td>Saakow</td>\n",
       "      <td>1.6394</td>\n",
       "      <td>42.4522</td>\n",
       "      <td>1</td>\n",
       "      <td>1</td>\n",
       "    </tr>\n",
       "    <tr>\n",
       "      <td>3</td>\n",
       "      <td>26 July 2019</td>\n",
       "      <td>Battles</td>\n",
       "      <td>Marka</td>\n",
       "      <td>1.7131</td>\n",
       "      <td>44.7639</td>\n",
       "      <td>1</td>\n",
       "      <td>10</td>\n",
       "    </tr>\n",
       "    <tr>\n",
       "      <td>4</td>\n",
       "      <td>26 July 2019</td>\n",
       "      <td>Violence against civilians</td>\n",
       "      <td>El Wak</td>\n",
       "      <td>2.7352</td>\n",
       "      <td>41.0177</td>\n",
       "      <td>3</td>\n",
       "      <td>0</td>\n",
       "    </tr>\n",
       "  </tbody>\n",
       "</table>\n",
       "</div>"
      ],
      "text/plain": [
       "     event_date                  event_type      location  latitude  \\\n",
       "0  27 July 2019                     Battles         Balad    2.3500   \n",
       "1  27 July 2019                     Battles  Karin Biyood   10.1499   \n",
       "2  27 July 2019  Violence against civilians        Saakow    1.6394   \n",
       "3  26 July 2019                     Battles         Marka    1.7131   \n",
       "4  26 July 2019  Violence against civilians        El Wak    2.7352   \n",
       "\n",
       "   longitude  geo_precision  fatalities  \n",
       "0    45.3833              1           0  \n",
       "1    46.1049              1           2  \n",
       "2    42.4522              1           1  \n",
       "3    44.7639              1          10  \n",
       "4    41.0177              3           0  "
      ]
     },
     "execution_count": 10,
     "metadata": {},
     "output_type": "execute_result"
    }
   ],
   "source": [
    "event_18_19.head()"
   ]
  },
  {
   "cell_type": "markdown",
   "metadata": {},
   "source": [
    "### Fatalities "
   ]
  },
  {
   "cell_type": "code",
   "execution_count": 11,
   "metadata": {},
   "outputs": [
    {
     "data": {
      "text/plain": [
       "<matplotlib.axes._subplots.AxesSubplot at 0x129b6a128>"
      ]
     },
     "execution_count": 11,
     "metadata": {},
     "output_type": "execute_result"
    },
    {
     "data": {
      "image/png": "[encoded data removed]",
      "text/plain": [
       "<Figure size 1440x1440 with 1 Axes>"
      ]
     },
     "metadata": {
      "needs_background": "light"
     },
     "output_type": "display_data"
    }
   ],
   "source": [
    "plt.figure(figsize=[20,20])\n",
    "event_18_19.set_index('event_date')[\"fatalities\"].plot()"
   ]
  },
  {
   "cell_type": "code",
   "execution_count": null,
   "metadata": {},
   "outputs": [],
   "source": []
  },
  {
   "cell_type": "markdown",
   "metadata": {},
   "source": [
    "### Event type & Count"
   ]
  },
  {
   "cell_type": "code",
   "execution_count": 11,
   "metadata": {},
   "outputs": [
    {
     "data": {
      "text/plain": [
       "Text(0.5, 1.0, 'Event Type & Counts')"
      ]
     },
     "execution_count": 11,
     "metadata": {},
     "output_type": "execute_result"
    },
    {
     "data": {
      "image/png": "[encoded data removed]",
      "text/plain": [
       "<Figure size 432x288 with 1 Axes>"
      ]
     },
     "metadata": {
      "needs_background": "light"
     },
     "output_type": "display_data"
    }
   ],
   "source": [
    "event_18_19[\"event_type\"].value_counts(sort=True).plot.barh().set_title(\"Event Type & Counts\")"
   ]
  },
  {
   "cell_type": "markdown",
   "metadata": {},
   "source": [
    "### Maps"
   ]
  },
  {
   "cell_type": "code",
   "execution_count": 12,
   "metadata": {},
   "outputs": [],
   "source": [
    "from shapely.geometry import Point, Polygon"
   ]
  },
  {
   "cell_type": "code",
   "execution_count": 40,
   "metadata": {},
   "outputs": [],
   "source": [
    "crs = {\"init\":\"epsg:4326\"}"
   ]
  },
  {
   "cell_type": "code",
   "execution_count": 41,
   "metadata": {},
   "outputs": [],
   "source": [
    "geometry = [Point(latlong) for latlong in zip(event_18_19[\"latitude\"], event_18_19[\"longitude\"])]"
   ]
  },
  {
   "cell_type": "code",
   "execution_count": 42,
   "metadata": {},
   "outputs": [
    {
     "data": {
      "text/plain": [
       "[<shapely.geometry.point.Point at 0x1330c5e48>,\n",
       " <shapely.geometry.point.Point at 0x1330c5e80>,\n",
       " <shapely.geometry.point.Point at 0x1330c5da0>,\n",
       " <shapely.geometry.point.Point at 0x1330c5cc0>,\n",
       " <shapely.geometry.point.Point at 0x1330c0f28>]"
      ]
     },
     "execution_count": 42,
     "metadata": {},
     "output_type": "execute_result"
    }
   ],
   "source": [
    "geometry[:5]"
   ]
  },
  {
   "cell_type": "code",
   "execution_count": 44,
   "metadata": {},
   "outputs": [
    {
     "data": {
      "text/plain": [
       "{'init': 'epsg:4326'}"
      ]
     },
     "execution_count": 44,
     "metadata": {},
     "output_type": "execute_result"
    }
   ],
   "source": [
    "geo_event_18_19 = gpd.GeoDataFrame(event_18_19, crs =crs, geometry=geometry)\n",
    "geo_event_18_19.crs"
   ]
  },
  {
   "cell_type": "code",
   "execution_count": 63,
   "metadata": {},
   "outputs": [],
   "source": [
    "somalia_administrative = gpd.read_file(r\"shp/SOM_admin_SHP/SOM.shp\")"
   ]
  },
  {
   "cell_type": "code",
   "execution_count": 45,
   "metadata": {},
   "outputs": [],
   "source": [
    "# somalia_administrative = gpd.read_file(r\"shp/somalia_administrative/somalia_administrative.shp\")\n",
    "# somalia_water = gpd.read_file(r\"shp/somalia_water/somalia_water.shp\")\n",
    "# somalia_highway = gpd.read_file(r\"shp/somalia_highway/somalia_highway.shp\")"
   ]
  },
  {
   "cell_type": "code",
   "execution_count": 64,
   "metadata": {},
   "outputs": [],
   "source": [
    "# somalia_water.crs"
   ]
  },
  {
   "cell_type": "code",
   "execution_count": 65,
   "metadata": {},
   "outputs": [],
   "source": [
    "# somalia_administrative.crs"
   ]
  },
  {
   "cell_type": "code",
   "execution_count": 78,
   "metadata": {},
   "outputs": [],
   "source": [
    "# somalia_administrative.to_csv(\"somalia_administrative.csv\")"
   ]
  },
  {
   "cell_type": "code",
   "execution_count": 72,
   "metadata": {},
   "outputs": [
    {
     "data": {
      "text/plain": [
       "{'init': 'epsg:4326'}"
      ]
     },
     "execution_count": 72,
     "metadata": {},
     "output_type": "execute_result"
    }
   ],
   "source": [
    "somalia_administrative.crs = {'init': 'epsg:4326'}\n",
    "\n",
    "somalia_administrative.crs"
   ]
  },
  {
   "cell_type": "code",
   "execution_count": 73,
   "metadata": {},
   "outputs": [],
   "source": [
    "geo_event_18_19.to_file(\"event_18_19.shp\")"
   ]
  },
  {
   "cell_type": "code",
   "execution_count": 74,
   "metadata": {},
   "outputs": [],
   "source": [
    "# somalia_administrative_gpd = gpd.GeoDataFrame(somalia_administrative, crs = crs, geometry = somalia_administrative['geometry'])\n"
   ]
  },
  {
   "cell_type": "code",
   "execution_count": 75,
   "metadata": {},
   "outputs": [
    {
     "data": {
      "text/plain": [
       "array([40.98863   , -1.66205287, 51.41303253, 11.98520279])"
      ]
     },
     "execution_count": 75,
     "metadata": {},
     "output_type": "execute_result"
    }
   ],
   "source": [
    "somalia_administrative.total_bounds"
   ]
  },
  {
   "cell_type": "code",
   "execution_count": 76,
   "metadata": {},
   "outputs": [
    {
     "data": {
      "text/plain": [
       "array([-1.6375, 40.9935, 11.9666, 51.1123])"
      ]
     },
     "execution_count": 76,
     "metadata": {},
     "output_type": "execute_result"
    }
   ],
   "source": [
    "geo_event_18_19 = gpd.read_file(r\"event_18_19.shp\")\n",
    "geo_event_18_19.total_bounds"
   ]
  },
  {
   "cell_type": "code",
   "execution_count": 116,
   "metadata": {},
   "outputs": [
    {
     "data": {
      "text/plain": [
       "<matplotlib.legend.Legend at 0x1454f0940>"
      ]
     },
     "execution_count": 116,
     "metadata": {},
     "output_type": "execute_result"
    },
    {
     "data": {
      "image/png": "[encoded data removed]",
      "text/plain": [
       "<Figure size 1440x1440 with 1 Axes>"
      ]
     },
     "metadata": {
      "needs_background": "light"
     },
     "output_type": "display_data"
    }
   ],
   "source": [
    "fig,ax = plt.subplots(figsize=[20,20])\n",
    "# show(raster, ax=ax)\n",
    "# somalia_administrative.plot(ax=ax, alpha=0.3, cmap=\"Dark2\")#CMRmap_r\n",
    "# somalia_highway.plot(ax=ax, alpha=0.3, color=\"black\", label=\"Highway\")\n",
    "geo_event_18_19[geo_event_18_19.event_type==\"Battles\"].plot(ax = ax, markersize=20, c=\"blue\", edgecolor='white', label=\"Battles\")\n",
    "geo_event_18_19[geo_event_18_19.event_type==\"Violence against civilians\"].plot(ax = ax, markersize=20, color=\"red\", label=\"Violence against civilians\")\n",
    "geo_event_18_19[geo_event_18_19.event_type==\"Explosions/Remote violence\"].plot(ax = ax, markersize=20, color=\"black\", label=\"Explosions/Remote violence\")\n",
    "geo_event_18_19[geo_event_18_19.event_type==\"Riots\"].plot(ax = ax, markersize=20, color=\"green\", label=\"Riots\")\n",
    "plt.legend(loc = 2,fontsize=\"x-large\")"
   ]
  },
  {
   "cell_type": "markdown",
   "metadata": {},
   "source": [
    "# UNHCR-PRMN-Displacement-Dataset"
   ]
  },
  {
   "cell_type": "code",
   "execution_count": 196,
   "metadata": {},
   "outputs": [
    {
     "data": {
      "text/html": [
       "<div>\n",
       "<style scoped>\n",
       "    .dataframe tbody tr th:only-of-type {\n",
       "        vertical-align: middle;\n",
       "    }\n",
       "\n",
       "    .dataframe tbody tr th {\n",
       "        vertical-align: top;\n",
       "    }\n",
       "\n",
       "    .dataframe thead th {\n",
       "        text-align: right;\n",
       "    }\n",
       "</style>\n",
       "<table border=\"1\" class=\"dataframe\">\n",
       "  <thead>\n",
       "    <tr style=\"text-align: right;\">\n",
       "      <th></th>\n",
       "      <th>0</th>\n",
       "      <th>1</th>\n",
       "      <th>2</th>\n",
       "      <th>3</th>\n",
       "      <th>4</th>\n",
       "      <th>5</th>\n",
       "      <th>6</th>\n",
       "      <th>7</th>\n",
       "      <th>8</th>\n",
       "    </tr>\n",
       "  </thead>\n",
       "  <tbody>\n",
       "    <tr>\n",
       "      <td>0</td>\n",
       "      <td>31/01/2016</td>\n",
       "      <td>201600</td>\n",
       "      <td>Banadir</td>\n",
       "      <td>Banadir</td>\n",
       "      <td>Hiraan</td>\n",
       "      <td>Belet Weyne</td>\n",
       "      <td>Conflict/Insecurity</td>\n",
       "      <td>Water</td>\n",
       "      <td>8</td>\n",
       "    </tr>\n",
       "    <tr>\n",
       "      <td>1</td>\n",
       "      <td>31/01/2016</td>\n",
       "      <td>201600</td>\n",
       "      <td>Bari</td>\n",
       "      <td>Qardho</td>\n",
       "      <td>Lower Shabelle</td>\n",
       "      <td>Qoryooley</td>\n",
       "      <td>Conflict/Insecurity</td>\n",
       "      <td>Livelihood Support</td>\n",
       "      <td>7</td>\n",
       "    </tr>\n",
       "    <tr>\n",
       "      <td>2</td>\n",
       "      <td>31/01/2016</td>\n",
       "      <td>201600</td>\n",
       "      <td>Bay</td>\n",
       "      <td>Baidoa</td>\n",
       "      <td>Bay</td>\n",
       "      <td>Baidoa</td>\n",
       "      <td>Drought related</td>\n",
       "      <td>Shelter</td>\n",
       "      <td>7</td>\n",
       "    </tr>\n",
       "    <tr>\n",
       "      <td>3</td>\n",
       "      <td>31/01/2016</td>\n",
       "      <td>201600</td>\n",
       "      <td>Bay</td>\n",
       "      <td>Baidoa</td>\n",
       "      <td>Bay</td>\n",
       "      <td>Qansax Dheere</td>\n",
       "      <td>Drought related</td>\n",
       "      <td>Shelter</td>\n",
       "      <td>4</td>\n",
       "    </tr>\n",
       "    <tr>\n",
       "      <td>4</td>\n",
       "      <td>31/01/2016</td>\n",
       "      <td>201600</td>\n",
       "      <td>Middle Juba</td>\n",
       "      <td>Saakow</td>\n",
       "      <td>Gedo</td>\n",
       "      <td>Baardheere</td>\n",
       "      <td>Drought related</td>\n",
       "      <td>Health</td>\n",
       "      <td>11</td>\n",
       "    </tr>\n",
       "  </tbody>\n",
       "</table>\n",
       "</div>"
      ],
      "text/plain": [
       "            0       1            2        3               4              5  \\\n",
       "0  31/01/2016  201600      Banadir  Banadir          Hiraan    Belet Weyne   \n",
       "1  31/01/2016  201600         Bari   Qardho  Lower Shabelle      Qoryooley   \n",
       "2  31/01/2016  201600          Bay   Baidoa             Bay         Baidoa   \n",
       "3  31/01/2016  201600          Bay   Baidoa             Bay  Qansax Dheere   \n",
       "4  31/01/2016  201600  Middle Juba   Saakow            Gedo     Baardheere   \n",
       "\n",
       "                     6                   7   8  \n",
       "0  Conflict/Insecurity               Water   8  \n",
       "1  Conflict/Insecurity  Livelihood Support   7  \n",
       "2      Drought related             Shelter   7  \n",
       "3      Drought related             Shelter   4  \n",
       "4      Drought related              Health  11  "
      ]
     },
     "execution_count": 196,
     "metadata": {},
     "output_type": "execute_result"
    }
   ],
   "source": [
    "UN_displacement = pd.read_excel(\"UNHCR-PRMN-Displacement-Dataset.xlsx\", header=None)\n",
    "UN_displacement.head()"
   ]
  },
  {
   "cell_type": "code",
   "execution_count": 197,
   "metadata": {},
   "outputs": [
    {
     "data": {
      "text/plain": [
       "array([['Month End', 'Year Week', 'Current (Arrival) Region',\n",
       "        'Current (Arrival) District', 'Previous (Departure) Region',\n",
       "        'Previous (Departure) District', 'Reason',\n",
       "        'Current (Arrival) Priority Need', 'Number of Individuals']],\n",
       "      dtype=object)"
      ]
     },
     "execution_count": 197,
     "metadata": {},
     "output_type": "execute_result"
    }
   ],
   "source": [
    "names = UN_displacement.tail(1)\n",
    "names.values"
   ]
  },
  {
   "cell_type": "code",
   "execution_count": 198,
   "metadata": {},
   "outputs": [],
   "source": [
    "UN_displacement.columns = list(names.values)"
   ]
  },
  {
   "cell_type": "code",
   "execution_count": 199,
   "metadata": {},
   "outputs": [],
   "source": [
    "UN_displacement.drop(UN_displacement.tail(1).index, inplace=True)"
   ]
  },
  {
   "cell_type": "code",
   "execution_count": 200,
   "metadata": {},
   "outputs": [
    {
     "data": {
      "text/html": [
       "<div>\n",
       "<style scoped>\n",
       "    .dataframe tbody tr th:only-of-type {\n",
       "        vertical-align: middle;\n",
       "    }\n",
       "\n",
       "    .dataframe tbody tr th {\n",
       "        vertical-align: top;\n",
       "    }\n",
       "\n",
       "    .dataframe thead tr th {\n",
       "        text-align: left;\n",
       "    }\n",
       "</style>\n",
       "<table border=\"1\" class=\"dataframe\">\n",
       "  <thead>\n",
       "    <tr>\n",
       "      <th></th>\n",
       "      <th>Month End</th>\n",
       "      <th>Year Week</th>\n",
       "      <th>Current (Arrival) Region</th>\n",
       "      <th>Current (Arrival) District</th>\n",
       "      <th>Previous (Departure) Region</th>\n",
       "      <th>Previous (Departure) District</th>\n",
       "      <th>Reason</th>\n",
       "      <th>Current (Arrival) Priority Need</th>\n",
       "      <th>Number of Individuals</th>\n",
       "    </tr>\n",
       "  </thead>\n",
       "  <tbody>\n",
       "    <tr>\n",
       "      <td>0</td>\n",
       "      <td>31/01/2016</td>\n",
       "      <td>201600</td>\n",
       "      <td>Banadir</td>\n",
       "      <td>Banadir</td>\n",
       "      <td>Hiraan</td>\n",
       "      <td>Belet Weyne</td>\n",
       "      <td>Conflict/Insecurity</td>\n",
       "      <td>Water</td>\n",
       "      <td>8</td>\n",
       "    </tr>\n",
       "    <tr>\n",
       "      <td>1</td>\n",
       "      <td>31/01/2016</td>\n",
       "      <td>201600</td>\n",
       "      <td>Bari</td>\n",
       "      <td>Qardho</td>\n",
       "      <td>Lower Shabelle</td>\n",
       "      <td>Qoryooley</td>\n",
       "      <td>Conflict/Insecurity</td>\n",
       "      <td>Livelihood Support</td>\n",
       "      <td>7</td>\n",
       "    </tr>\n",
       "    <tr>\n",
       "      <td>2</td>\n",
       "      <td>31/01/2016</td>\n",
       "      <td>201600</td>\n",
       "      <td>Bay</td>\n",
       "      <td>Baidoa</td>\n",
       "      <td>Bay</td>\n",
       "      <td>Baidoa</td>\n",
       "      <td>Drought related</td>\n",
       "      <td>Shelter</td>\n",
       "      <td>7</td>\n",
       "    </tr>\n",
       "    <tr>\n",
       "      <td>3</td>\n",
       "      <td>31/01/2016</td>\n",
       "      <td>201600</td>\n",
       "      <td>Bay</td>\n",
       "      <td>Baidoa</td>\n",
       "      <td>Bay</td>\n",
       "      <td>Qansax Dheere</td>\n",
       "      <td>Drought related</td>\n",
       "      <td>Shelter</td>\n",
       "      <td>4</td>\n",
       "    </tr>\n",
       "    <tr>\n",
       "      <td>4</td>\n",
       "      <td>31/01/2016</td>\n",
       "      <td>201600</td>\n",
       "      <td>Middle Juba</td>\n",
       "      <td>Saakow</td>\n",
       "      <td>Gedo</td>\n",
       "      <td>Baardheere</td>\n",
       "      <td>Drought related</td>\n",
       "      <td>Health</td>\n",
       "      <td>11</td>\n",
       "    </tr>\n",
       "  </tbody>\n",
       "</table>\n",
       "</div>"
      ],
      "text/plain": [
       "    Month End Year Week Current (Arrival) Region Current (Arrival) District  \\\n",
       "0  31/01/2016    201600                  Banadir                    Banadir   \n",
       "1  31/01/2016    201600                     Bari                     Qardho   \n",
       "2  31/01/2016    201600                      Bay                     Baidoa   \n",
       "3  31/01/2016    201600                      Bay                     Baidoa   \n",
       "4  31/01/2016    201600              Middle Juba                     Saakow   \n",
       "\n",
       "  Previous (Departure) Region Previous (Departure) District  \\\n",
       "0                      Hiraan                   Belet Weyne   \n",
       "1              Lower Shabelle                     Qoryooley   \n",
       "2                         Bay                        Baidoa   \n",
       "3                         Bay                 Qansax Dheere   \n",
       "4                        Gedo                    Baardheere   \n",
       "\n",
       "                Reason Current (Arrival) Priority Need Number of Individuals  \n",
       "0  Conflict/Insecurity                           Water                     8  \n",
       "1  Conflict/Insecurity              Livelihood Support                     7  \n",
       "2      Drought related                         Shelter                     7  \n",
       "3      Drought related                         Shelter                     4  \n",
       "4      Drought related                          Health                    11  "
      ]
     },
     "execution_count": 200,
     "metadata": {},
     "output_type": "execute_result"
    }
   ],
   "source": [
    "UN_displacement.head()"
   ]
  },
  {
   "cell_type": "code",
   "execution_count": null,
   "metadata": {},
   "outputs": [],
   "source": []
  },
  {
   "cell_type": "markdown",
   "metadata": {},
   "source": [
    "## Only 2018 & 2019"
   ]
  },
  {
   "cell_type": "code",
   "execution_count": 222,
   "metadata": {},
   "outputs": [],
   "source": [
    "UN_displacement_18_19 = UN_displacement.loc[(UN_displacement.iloc[:,1].astype(str).str.contains('2019')) | UN_displacement.iloc[:,1].astype(str).str.contains(\"2018\")]"
   ]
  },
  {
   "cell_type": "code",
   "execution_count": 223,
   "metadata": {},
   "outputs": [
    {
     "data": {
      "text/html": [
       "<div>\n",
       "<style scoped>\n",
       "    .dataframe tbody tr th:only-of-type {\n",
       "        vertical-align: middle;\n",
       "    }\n",
       "\n",
       "    .dataframe tbody tr th {\n",
       "        vertical-align: top;\n",
       "    }\n",
       "\n",
       "    .dataframe thead tr th {\n",
       "        text-align: left;\n",
       "    }\n",
       "</style>\n",
       "<table border=\"1\" class=\"dataframe\">\n",
       "  <thead>\n",
       "    <tr>\n",
       "      <th></th>\n",
       "      <th>Month End</th>\n",
       "      <th>Year Week</th>\n",
       "      <th>Current (Arrival) Region</th>\n",
       "      <th>Current (Arrival) District</th>\n",
       "      <th>Previous (Departure) Region</th>\n",
       "      <th>Previous (Departure) District</th>\n",
       "      <th>Reason</th>\n",
       "      <th>Current (Arrival) Priority Need</th>\n",
       "      <th>Number of Individuals</th>\n",
       "    </tr>\n",
       "  </thead>\n",
       "  <tbody>\n",
       "    <tr>\n",
       "      <td>12496</td>\n",
       "      <td>31/01/2018</td>\n",
       "      <td>201801</td>\n",
       "      <td>Awdal</td>\n",
       "      <td>Baki</td>\n",
       "      <td>Awdal</td>\n",
       "      <td>Lughaye</td>\n",
       "      <td>Drought related</td>\n",
       "      <td>Food</td>\n",
       "      <td>16</td>\n",
       "    </tr>\n",
       "    <tr>\n",
       "      <td>12497</td>\n",
       "      <td>31/01/2018</td>\n",
       "      <td>201801</td>\n",
       "      <td>Awdal</td>\n",
       "      <td>Borama</td>\n",
       "      <td>Awdal</td>\n",
       "      <td>Lughaye</td>\n",
       "      <td>Drought related</td>\n",
       "      <td>Shelter</td>\n",
       "      <td>8</td>\n",
       "    </tr>\n",
       "    <tr>\n",
       "      <td>12498</td>\n",
       "      <td>31/01/2018</td>\n",
       "      <td>201801</td>\n",
       "      <td>Awdal</td>\n",
       "      <td>Borama</td>\n",
       "      <td>Bakool</td>\n",
       "      <td>Waajid</td>\n",
       "      <td>Drought related</td>\n",
       "      <td>Transport</td>\n",
       "      <td>7</td>\n",
       "    </tr>\n",
       "    <tr>\n",
       "      <td>12499</td>\n",
       "      <td>31/01/2018</td>\n",
       "      <td>201801</td>\n",
       "      <td>Awdal</td>\n",
       "      <td>Borama</td>\n",
       "      <td>Banadir</td>\n",
       "      <td>Banadir</td>\n",
       "      <td>Drought related</td>\n",
       "      <td>Livelihood Support</td>\n",
       "      <td>8</td>\n",
       "    </tr>\n",
       "    <tr>\n",
       "      <td>12500</td>\n",
       "      <td>31/01/2018</td>\n",
       "      <td>201801</td>\n",
       "      <td>Awdal</td>\n",
       "      <td>Borama</td>\n",
       "      <td>Banadir</td>\n",
       "      <td>Banadir</td>\n",
       "      <td>Drought related</td>\n",
       "      <td>Transport</td>\n",
       "      <td>7</td>\n",
       "    </tr>\n",
       "  </tbody>\n",
       "</table>\n",
       "</div>"
      ],
      "text/plain": [
       "        Month End Year Week Current (Arrival) Region  \\\n",
       "12496  31/01/2018    201801                    Awdal   \n",
       "12497  31/01/2018    201801                    Awdal   \n",
       "12498  31/01/2018    201801                    Awdal   \n",
       "12499  31/01/2018    201801                    Awdal   \n",
       "12500  31/01/2018    201801                    Awdal   \n",
       "\n",
       "      Current (Arrival) District Previous (Departure) Region  \\\n",
       "12496                       Baki                       Awdal   \n",
       "12497                     Borama                       Awdal   \n",
       "12498                     Borama                      Bakool   \n",
       "12499                     Borama                     Banadir   \n",
       "12500                     Borama                     Banadir   \n",
       "\n",
       "      Previous (Departure) District           Reason  \\\n",
       "12496                       Lughaye  Drought related   \n",
       "12497                       Lughaye  Drought related   \n",
       "12498                        Waajid  Drought related   \n",
       "12499                       Banadir  Drought related   \n",
       "12500                       Banadir  Drought related   \n",
       "\n",
       "      Current (Arrival) Priority Need Number of Individuals  \n",
       "12496                            Food                    16  \n",
       "12497                         Shelter                     8  \n",
       "12498                       Transport                     7  \n",
       "12499              Livelihood Support                     8  \n",
       "12500                       Transport                     7  "
      ]
     },
     "execution_count": 223,
     "metadata": {},
     "output_type": "execute_result"
    }
   ],
   "source": [
    "UN_displacement_18_19.head()"
   ]
  },
  {
   "cell_type": "markdown",
   "metadata": {},
   "source": [
    "### Reasons for displacement:"
   ]
  },
  {
   "cell_type": "code",
   "execution_count": 225,
   "metadata": {
    "scrolled": true
   },
   "outputs": [
    {
     "data": {
      "text/plain": [
       "Text(0.5, 1.0, 'Event Type & Counts')"
      ]
     },
     "execution_count": 225,
     "metadata": {},
     "output_type": "execute_result"
    },
    {
     "data": {
      "image/png": "[encoded data removed]",
      "text/plain": [
       "<Figure size 432x288 with 1 Axes>"
      ]
     },
     "metadata": {
      "needs_background": "light"
     },
     "output_type": "display_data"
    }
   ],
   "source": [
    "UN_displacement_18_19.iloc[:,6].value_counts().plot.barh().set_title(\"Event Type & Counts\")"
   ]
  },
  {
   "cell_type": "code",
   "execution_count": null,
   "metadata": {},
   "outputs": [],
   "source": []
  },
  {
   "cell_type": "markdown",
   "metadata": {},
   "source": [
    "### Displacement from:"
   ]
  },
  {
   "cell_type": "code",
   "execution_count": 226,
   "metadata": {},
   "outputs": [
    {
     "data": {
      "text/plain": [
       "Text(0.5, 1.0, 'Departure Region')"
      ]
     },
     "execution_count": 226,
     "metadata": {},
     "output_type": "execute_result"
    },
    {
     "data": {
      "image/png": "[encoded data removed]",
      "text/plain": [
       "<Figure size 1080x1080 with 1 Axes>"
      ]
     },
     "metadata": {
      "needs_background": "light"
     },
     "output_type": "display_data"
    }
   ],
   "source": [
    "fig, ax = plt.subplots(figsize=[15,15])\n",
    "UN_displacement_18_19.iloc[:,4].value_counts().plot.barh(ax=ax).set_title(\"Departure Region\")"
   ]
  },
  {
   "cell_type": "code",
   "execution_count": null,
   "metadata": {},
   "outputs": [],
   "source": []
  },
  {
   "cell_type": "markdown",
   "metadata": {},
   "source": [
    "### Displacement to:"
   ]
  },
  {
   "cell_type": "code",
   "execution_count": 227,
   "metadata": {},
   "outputs": [
    {
     "data": {
      "text/plain": [
       "Text(0.5, 1.0, 'Current Arrival Region')"
      ]
     },
     "execution_count": 227,
     "metadata": {},
     "output_type": "execute_result"
    },
    {
     "data": {
      "image/png": "[encoded data removed]",
      "text/plain": [
       "<Figure size 1080x1080 with 1 Axes>"
      ]
     },
     "metadata": {
      "needs_background": "light"
     },
     "output_type": "display_data"
    }
   ],
   "source": [
    "fig, ax = plt.subplots(figsize=[15,15])\n",
    "UN_displacement_18_19.iloc[:,2].value_counts().plot.barh(ax=ax).set_title(\"Current Arrival Region\")"
   ]
  },
  {
   "cell_type": "code",
   "execution_count": null,
   "metadata": {
    "collapsed": true
   },
   "outputs": [],
   "source": []
  }
 ],
 "metadata": {
  "kernelspec": {
   "display_name": "Python 3",
   "language": "python",
   "name": "python3"
  },
  "language_info": {
   "codemirror_mode": {
    "name": "ipython",
    "version": 3
   },
   "file_extension": ".py",
   "mimetype": "text/x-python",
   "name": "python",
   "nbconvert_exporter": "python",
   "pygments_lexer": "ipython3",
   "version": "3.6.2"
  }
 },
 "nbformat": 4,
 "nbformat_minor": 2
}
