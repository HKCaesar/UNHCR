{
 "cells": [
  {
   "cell_type": "code",
   "execution_count": 290,
   "metadata": {},
   "outputs": [],
   "source": [
    "import numpy as np\n",
    "import pandas as pd\n",
    "\n",
    "import random \n",
    "\n",
    "import numpy as np\n",
    "\n",
    "import matplotlib\n",
    "import matplotlib.pyplot as plt\n",
    "import matplotlib.patches as ptc\n",
    "\n",
    "from shapely.geometry import Point\n",
    "from shapely.geometry.polygon import LinearRing, Polygon\n",
    "from shapely.geometry.multipolygon import MultiPolygon\n",
    "from shapely.ops import cascaded_union\n",
    "\n",
    "import geopandas as gpd\n",
    "\n",
    "import psycopg2\n",
    "# from config import config"
   ]
  },
  {
   "cell_type": "code",
   "execution_count": 291,
   "metadata": {},
   "outputs": [],
   "source": [
    "grid = (45,55)\n",
    "map_width = grid[0]\n",
    "map_height = grid[1]"
   ]
  },
  {
   "cell_type": "code",
   "execution_count": 292,
   "metadata": {},
   "outputs": [],
   "source": [
    "min_lat = -2\n",
    "max_lat = 13\n",
    "min_lon = 40\n",
    "max_lon = 52\n",
    "\n",
    "eps = 1e-6"
   ]
  },
  {
   "cell_type": "code",
   "execution_count": 293,
   "metadata": {},
   "outputs": [],
   "source": [
    "def frange(x, y, jump):\n",
    "    while x < y:\n",
    "        yield x\n",
    "        x += jump"
   ]
  },
  {
   "cell_type": "code",
   "execution_count": 294,
   "metadata": {},
   "outputs": [],
   "source": [
    "wsteps = [round(i,2) for i in list(frange(min_lat-eps,max_lat+eps,(max_lat-min_lat)/map_height))]\n",
    "hsteps = [round(i,2) for i in list(frange(min_lon-eps,max_lon+eps,(max_lon-min_lon)/map_width))]"
   ]
  },
  {
   "cell_type": "code",
   "execution_count": 295,
   "metadata": {},
   "outputs": [],
   "source": [
    "rasterdf = pd.DataFrame(columns = ['gridloc','geometry'])\n",
    "for i in range(0,len(wsteps)-1):\n",
    "    for j in range(0,len(hsteps)-1):\n",
    "        x = {}\n",
    "        w = wsteps\n",
    "        h = hsteps\n",
    "        x['gridloc'] = (i,j)\n",
    "        x['geometry'] = Polygon([(w[i],h[j]),(w[i],h[j+1]),(w[i+1],h[j+1]),(w[i+1],h[j]),(w[i],h[j])])\n",
    "        rasterdf = rasterdf.append(x,ignore_index=True)"
   ]
  },
  {
   "cell_type": "code",
   "execution_count": 296,
   "metadata": {},
   "outputs": [
    {
     "data": {
      "text/html": [
       "<div>\n",
       "<style scoped>\n",
       "    .dataframe tbody tr th:only-of-type {\n",
       "        vertical-align: middle;\n",
       "    }\n",
       "\n",
       "    .dataframe tbody tr th {\n",
       "        vertical-align: top;\n",
       "    }\n",
       "\n",
       "    .dataframe thead th {\n",
       "        text-align: right;\n",
       "    }\n",
       "</style>\n",
       "<table border=\"1\" class=\"dataframe\">\n",
       "  <thead>\n",
       "    <tr style=\"text-align: right;\">\n",
       "      <th></th>\n",
       "      <th>gridloc</th>\n",
       "      <th>geometry</th>\n",
       "    </tr>\n",
       "  </thead>\n",
       "  <tbody>\n",
       "    <tr>\n",
       "      <td>0</td>\n",
       "      <td>(0, 0)</td>\n",
       "      <td>POLYGON ((-2 40, -2 40.27, -1.73 40.27, -1.73 ...</td>\n",
       "    </tr>\n",
       "    <tr>\n",
       "      <td>1</td>\n",
       "      <td>(0, 1)</td>\n",
       "      <td>POLYGON ((-2 40.27, -2 40.53, -1.73 40.53, -1....</td>\n",
       "    </tr>\n",
       "    <tr>\n",
       "      <td>2</td>\n",
       "      <td>(0, 2)</td>\n",
       "      <td>POLYGON ((-2 40.53, -2 40.8, -1.73 40.8, -1.73...</td>\n",
       "    </tr>\n",
       "    <tr>\n",
       "      <td>3</td>\n",
       "      <td>(0, 3)</td>\n",
       "      <td>POLYGON ((-2 40.8, -2 41.07, -1.73 41.07, -1.7...</td>\n",
       "    </tr>\n",
       "    <tr>\n",
       "      <td>4</td>\n",
       "      <td>(0, 4)</td>\n",
       "      <td>POLYGON ((-2 41.07, -2 41.33, -1.73 41.33, -1....</td>\n",
       "    </tr>\n",
       "    <tr>\n",
       "      <td>...</td>\n",
       "      <td>...</td>\n",
       "      <td>...</td>\n",
       "    </tr>\n",
       "    <tr>\n",
       "      <td>2470</td>\n",
       "      <td>(54, 40)</td>\n",
       "      <td>POLYGON ((12.73 50.67, 12.73 50.93, 13 50.93, ...</td>\n",
       "    </tr>\n",
       "    <tr>\n",
       "      <td>2471</td>\n",
       "      <td>(54, 41)</td>\n",
       "      <td>POLYGON ((12.73 50.93, 12.73 51.2, 13 51.2, 13...</td>\n",
       "    </tr>\n",
       "    <tr>\n",
       "      <td>2472</td>\n",
       "      <td>(54, 42)</td>\n",
       "      <td>POLYGON ((12.73 51.2, 12.73 51.47, 13 51.47, 1...</td>\n",
       "    </tr>\n",
       "    <tr>\n",
       "      <td>2473</td>\n",
       "      <td>(54, 43)</td>\n",
       "      <td>POLYGON ((12.73 51.47, 12.73 51.73, 13 51.73, ...</td>\n",
       "    </tr>\n",
       "    <tr>\n",
       "      <td>2474</td>\n",
       "      <td>(54, 44)</td>\n",
       "      <td>POLYGON ((12.73 51.73, 12.73 52, 13 52, 13 51....</td>\n",
       "    </tr>\n",
       "  </tbody>\n",
       "</table>\n",
       "<p>2475 rows × 2 columns</p>\n",
       "</div>"
      ],
      "text/plain": [
       "       gridloc                                           geometry\n",
       "0       (0, 0)  POLYGON ((-2 40, -2 40.27, -1.73 40.27, -1.73 ...\n",
       "1       (0, 1)  POLYGON ((-2 40.27, -2 40.53, -1.73 40.53, -1....\n",
       "2       (0, 2)  POLYGON ((-2 40.53, -2 40.8, -1.73 40.8, -1.73...\n",
       "3       (0, 3)  POLYGON ((-2 40.8, -2 41.07, -1.73 41.07, -1.7...\n",
       "4       (0, 4)  POLYGON ((-2 41.07, -2 41.33, -1.73 41.33, -1....\n",
       "...        ...                                                ...\n",
       "2470  (54, 40)  POLYGON ((12.73 50.67, 12.73 50.93, 13 50.93, ...\n",
       "2471  (54, 41)  POLYGON ((12.73 50.93, 12.73 51.2, 13 51.2, 13...\n",
       "2472  (54, 42)  POLYGON ((12.73 51.2, 12.73 51.47, 13 51.47, 1...\n",
       "2473  (54, 43)  POLYGON ((12.73 51.47, 12.73 51.73, 13 51.73, ...\n",
       "2474  (54, 44)  POLYGON ((12.73 51.73, 12.73 52, 13 52, 13 51....\n",
       "\n",
       "[2475 rows x 2 columns]"
      ]
     },
     "execution_count": 296,
     "metadata": {},
     "output_type": "execute_result"
    }
   ],
   "source": [
    "rasterdf"
   ]
  },
  {
   "cell_type": "code",
   "execution_count": 297,
   "metadata": {},
   "outputs": [
    {
     "data": {
      "text/html": [
       "<div>\n",
       "<style scoped>\n",
       "    .dataframe tbody tr th:only-of-type {\n",
       "        vertical-align: middle;\n",
       "    }\n",
       "\n",
       "    .dataframe tbody tr th {\n",
       "        vertical-align: top;\n",
       "    }\n",
       "\n",
       "    .dataframe thead th {\n",
       "        text-align: right;\n",
       "    }\n",
       "</style>\n",
       "<table border=\"1\" class=\"dataframe\">\n",
       "  <thead>\n",
       "    <tr style=\"text-align: right;\">\n",
       "      <th></th>\n",
       "      <th>value</th>\n",
       "      <th>geometry</th>\n",
       "    </tr>\n",
       "  </thead>\n",
       "  <tbody>\n",
       "    <tr>\n",
       "      <td>0</td>\n",
       "      <td>1</td>\n",
       "      <td>POLYGON ((5.272756170080995 45.18296646384834,...</td>\n",
       "    </tr>\n",
       "    <tr>\n",
       "      <td>1</td>\n",
       "      <td>4</td>\n",
       "      <td>POLYGON ((6.952035460973645 48.37730607810625,...</td>\n",
       "    </tr>\n",
       "    <tr>\n",
       "      <td>2</td>\n",
       "      <td>4</td>\n",
       "      <td>POLYGON ((3.968039923313643 49.42456510448657,...</td>\n",
       "    </tr>\n",
       "    <tr>\n",
       "      <td>3</td>\n",
       "      <td>0</td>\n",
       "      <td>POLYGON ((-0.8110369202861247 43.0314968064379...</td>\n",
       "    </tr>\n",
       "    <tr>\n",
       "      <td>4</td>\n",
       "      <td>2</td>\n",
       "      <td>POLYGON ((5.553905860128197 46.36793675022576,...</td>\n",
       "    </tr>\n",
       "  </tbody>\n",
       "</table>\n",
       "</div>"
      ],
      "text/plain": [
       "   value                                           geometry\n",
       "0      1  POLYGON ((5.272756170080995 45.18296646384834,...\n",
       "1      4  POLYGON ((6.952035460973645 48.37730607810625,...\n",
       "2      4  POLYGON ((3.968039923313643 49.42456510448657,...\n",
       "3      0  POLYGON ((-0.8110369202861247 43.0314968064379...\n",
       "4      2  POLYGON ((5.553905860128197 46.36793675022576,..."
      ]
     },
     "execution_count": 297,
     "metadata": {},
     "output_type": "execute_result"
    }
   ],
   "source": [
    "l = 5\n",
    "start_1 = 27\n",
    "start_2 = 68\n",
    "\n",
    "pollist = list()\n",
    "for i in range(0,l):\n",
    "    ctrX = float(np.random.uniform(-2, 13))\n",
    "    ctrY = float(np.random.uniform(40, 52))\n",
    "#     aveRadius = float(np.random.uniform(0.001, 0.1))\n",
    "    aveRadius = 0.5\n",
    "\n",
    "    verts = generatePolygon(ctrX=ctrX, ctrY=ctrY, \n",
    "                            aveRadius=aveRadius, irregularity=0.35, \n",
    "                            spikeyness=0.2, numVerts=16)\n",
    "\n",
    "    pollist.append(Polygon(verts))\n",
    "    \n",
    "x = {} \n",
    "catarray = range(0,l)\n",
    "x['value'] = [random.choice(catarray) for i in catarray]\n",
    "x['geometry'] = pollist\n",
    "df_pol = pd.DataFrame.from_dict(x)\n",
    "df_pol.head()"
   ]
  },
  {
   "cell_type": "code",
   "execution_count": 310,
   "metadata": {},
   "outputs": [],
   "source": [
    "import geopandas as gpd\n",
    "df_som = gpd.read_file(\"./som_geo_data/som_admbnda_adm2_undp.shp\")\n",
    "df_som = df_som.sort_values(by='admin2Name')"
   ]
  },
  {
   "cell_type": "code",
   "execution_count": 312,
   "metadata": {},
   "outputs": [
    {
     "data": {
      "text/plain": [
       "44    Adan Yabaal\n",
       "49        Afgooye\n",
       "71        Afmadow\n",
       "62     Baardheere\n",
       "72      Badhaadhe\n",
       "         ...     \n",
       "54     Wanla Weyn\n",
       "14    Xarardheere\n",
       "18          Xudun\n",
       "59          Xudur\n",
       "4          Zeylac\n",
       "Name: admin2Name, Length: 74, dtype: object"
      ]
     },
     "execution_count": 312,
     "metadata": {},
     "output_type": "execute_result"
    }
   ],
   "source": [
    "df_som['admin2Name']"
   ]
  },
  {
   "cell_type": "code",
   "execution_count": null,
   "metadata": {},
   "outputs": [],
   "source": []
  },
  {
   "cell_type": "code",
   "execution_count": null,
   "metadata": {},
   "outputs": [],
   "source": []
  },
  {
   "cell_type": "code",
   "execution_count": null,
   "metadata": {},
   "outputs": [],
   "source": []
  },
  {
   "cell_type": "code",
   "execution_count": null,
   "metadata": {},
   "outputs": [],
   "source": []
  },
  {
   "cell_type": "code",
   "execution_count": null,
   "metadata": {},
   "outputs": [],
   "source": []
  },
  {
   "cell_type": "code",
   "execution_count": null,
   "metadata": {},
   "outputs": [],
   "source": []
  },
  {
   "cell_type": "code",
   "execution_count": null,
   "metadata": {},
   "outputs": [],
   "source": []
  },
  {
   "cell_type": "code",
   "execution_count": 298,
   "metadata": {},
   "outputs": [
    {
     "data": {
      "image/png": "[encoded data removed]",
      "text/plain": [
       "<Figure size 432x432 with 1 Axes>"
      ]
     },
     "metadata": {
      "needs_background": "light"
     },
     "output_type": "display_data"
    }
   ],
   "source": [
    "fig, ax = plt.subplots(figsize=(6,6))\n",
    "fig.canvas.draw() \n",
    "\n",
    "ax.grid(True)\n",
    "ax.axis([-2, 13, 40, 52])\n",
    "\n",
    "for pol in rasterdf['geometry']:\n",
    "    polpc = ptc.Polygon(np.array(pol.exterior), fc=[0,0,0,0.1], edgecolor='red', lw=1)\n",
    "    ax.add_patch(polpc)\n",
    "\n",
    "for pol in df_pol['geometry']:\n",
    "    polpc = ptc.Polygon(np.array(pol.exterior), fc=[0,0,0,0.1], edgecolor='green', lw=1)\n",
    "    ax.add_patch(polpc)"
   ]
  },
  {
   "cell_type": "code",
   "execution_count": 302,
   "metadata": {},
   "outputs": [],
   "source": [
    "dx = np.zeros([55,45])\n",
    "\n",
    "for i in range(0,df_pol.shape[0]):\n",
    "    x = []\n",
    "    ar = [df_pol.loc[i,'geometry'].intersects(pixel) for pixel in rasterdf['geometry']]\n",
    "    x = [df_pol.loc[i,'geometry'].intersection(pixel).area/pixel.area for pixel in rasterdf['geometry']]\n",
    "    x = np.dot(x,df_pol.loc[i,'value']/np.sum(ar))\n",
    "    dx += np.array(x).reshape(55,45)\n",
    "    "
   ]
  },
  {
   "cell_type": "code",
   "execution_count": 303,
   "metadata": {},
   "outputs": [
    {
     "data": {
      "text/plain": [
       "<matplotlib.axes._subplots.AxesSubplot at 0x7fa1ddf22390>"
      ]
     },
     "execution_count": 303,
     "metadata": {},
     "output_type": "execute_result"
    },
    {
     "data": {
      "image/png": "[encoded data removed]",
      "text/plain": [
       "<Figure size 432x288 with 2 Axes>"
      ]
     },
     "metadata": {
      "needs_background": "light"
     },
     "output_type": "display_data"
    }
   ],
   "source": [
    "sns.heatmap(dx)"
   ]
  },
  {
   "cell_type": "code",
   "execution_count": null,
   "metadata": {},
   "outputs": [],
   "source": []
  },
  {
   "cell_type": "code",
   "execution_count": null,
   "metadata": {},
   "outputs": [],
   "source": []
  },
  {
   "cell_type": "code",
   "execution_count": null,
   "metadata": {},
   "outputs": [],
   "source": []
  },
  {
   "cell_type": "code",
   "execution_count": null,
   "metadata": {},
   "outputs": [],
   "source": []
  },
  {
   "cell_type": "code",
   "execution_count": null,
   "metadata": {},
   "outputs": [],
   "source": []
  },
  {
   "cell_type": "code",
   "execution_count": null,
   "metadata": {},
   "outputs": [],
   "source": []
  },
  {
   "cell_type": "code",
   "execution_count": null,
   "metadata": {},
   "outputs": [],
   "source": []
  },
  {
   "cell_type": "code",
   "execution_count": null,
   "metadata": {},
   "outputs": [],
   "source": []
  },
  {
   "cell_type": "code",
   "execution_count": null,
   "metadata": {},
   "outputs": [],
   "source": []
  },
  {
   "cell_type": "code",
   "execution_count": null,
   "metadata": {},
   "outputs": [],
   "source": []
  },
  {
   "cell_type": "code",
   "execution_count": null,
   "metadata": {},
   "outputs": [],
   "source": []
  },
  {
   "cell_type": "code",
   "execution_count": null,
   "metadata": {},
   "outputs": [],
   "source": []
  },
  {
   "cell_type": "code",
   "execution_count": null,
   "metadata": {},
   "outputs": [],
   "source": []
  }
 ],
 "metadata": {
  "kernelspec": {
   "display_name": "Python (psql_py)",
   "language": "python",
   "name": "psql_py"
  },
  "language_info": {
   "codemirror_mode": {
    "name": "ipython",
    "version": 3
   },
   "file_extension": ".py",
   "mimetype": "text/x-python",
   "name": "python",
   "nbconvert_exporter": "python",
   "pygments_lexer": "ipython3",
   "version": "3.7.3"
  }
 },
 "nbformat": 4,
 "nbformat_minor": 2
}
