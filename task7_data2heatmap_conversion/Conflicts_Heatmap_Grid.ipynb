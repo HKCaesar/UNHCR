{
 "cells": [
  {
   "cell_type": "code",
   "execution_count": 1,
   "metadata": {},
   "outputs": [],
   "source": [
    "import pandas as pd\n",
    "import geopandas as gpd\n",
    "import numpy as np\n",
    "import matplotlib.pyplot as plt\n",
    "import seaborn as sns\n",
    "\n",
    "import os\n",
    "import random\n",
    "from datetime import timedelta  "
   ]
  },
  {
   "cell_type": "code",
   "execution_count": 4,
   "metadata": {},
   "outputs": [],
   "source": [
    "dpath = {}\n",
    "dpath['home'] = './data/conflicts'\n",
    "dpath['subfolder'] = 'input'\n",
    "dpath['filename'] = '2001-01-01-2019-10-01-Djibouti-Ethiopia-Kenya-Somalia.csv'\n",
    "dfc = pd.read_csv(os.path.join(dpath['home'],dpath['subfolder'],dpath['filename']))\n",
    "\n",
    "# Filtering for somalian cases\n",
    "dfc = dfc[[i[:3] == 'SOM' for i in dfc['event_id_cnty'].values]]\n",
    "\n",
    "# Dropping peaceful protests\n",
    "dfc = dfc.drop(dfc[dfc['sub_event_type'] == 'Peaceful protest'].index)\n",
    "\n",
    "# Typesetting\n",
    "dfc['ts'] = pd.to_datetime(dfc['event_date'])\n",
    "dfc['latitude'] = dfc['latitude'].astype(float)\n",
    "dfc['longitude'] = dfc['longitude'].astype(float)\n",
    "dfc['fatalities'] = dfc['fatalities'].astype(int)\n",
    "\n",
    "dfc = dfc[['ts','latitude','longitude','fatalities']]\n",
    "dfc.columns = ['ts','lat','lon','fatalities']\n",
    "\n",
    "# Write to csv\n",
    "dpath = {}\n",
    "dpath['home'] = './data/conflicts'\n",
    "dpath['subfolder'] = 'input'\n",
    "dpath['filename'] = '2001-01-01-2019-10-01-Somalia-Events-Only.csv'\n",
    "# dfc.to_csv(os.path.join(dpath['home'],dpath['subfolder'],dpath['filename']))"
   ]
  },
  {
   "cell_type": "markdown",
   "metadata": {},
   "source": [
    "Choices that I made during preprocessing that need to be confirmed for validity:\n",
    "\n",
    "1. To generate the heat map we only need lat,lon,fatality and time information. <br>\n",
    "2. Filter for somalia only, later the data can be augemented with surrounding countries, however the test set should only be somalia. <br>\n",
    "3. Filted out peacefull protests. Are we trying to predict all the conflict subevents? Or or some types of conflicts more related to droughts / displacements.? Are for example peacefull protests linked to drought? \n",
    "\n",
    "Question: Is there also displacement data available for surrounding countring like ethiopia, djibouti, kenya?\n"
   ]
  },
  {
   "cell_type": "code",
   "execution_count": null,
   "metadata": {},
   "outputs": [],
   "source": [
    "df = dfc"
   ]
  },
  {
   "cell_type": "code",
   "execution_count": null,
   "metadata": {},
   "outputs": [],
   "source": [
    "from utils import create_idx_fixed_minmax"
   ]
  },
  {
   "cell_type": "code",
   "execution_count": null,
   "metadata": {},
   "outputs": [],
   "source": [
    "# Define the grid which we want to use to divide your map into zones\n",
    "\n",
    "# map_width = 5\n",
    "# map_height = 3 # Number of zones that the map will be divided vertically \n",
    "\n",
    "map_width = 64\n",
    "map_height = 64 # \n",
    "\n",
    "grid = (map_width,map_height)\n",
    "\n",
    "# Add a grid position to a dataframe with a 'lat' and a 'lon' column\n",
    "# Map (lon, lat) into (grid_h, grid_w)\n",
    "df_indexed = create_idx_fixed_minmax(df, grid)"
   ]
  },
  {
   "cell_type": "code",
   "execution_count": null,
   "metadata": {},
   "outputs": [],
   "source": [
    "df_indexed.head()"
   ]
  },
  {
   "cell_type": "code",
   "execution_count": null,
   "metadata": {},
   "outputs": [],
   "source": [
    "############################################################################################\n",
    "# Create heatmaps\n",
    "############################################################################################\n",
    "\n",
    "# Hyperparameters for heatmap construction\n",
    "T = 1 # Period frequency 1, 2, 3 ,4 \n",
    "freq = 'W' # Date frequency that can be D, W, M for Days, Weeks, Months and so on\n",
    "\n",
    "# Aggregate (time, square, category) to create the incident map sum \n",
    "df_indexed_count = df_indexed.groupby(['grid_w','grid_h','fatalities', pd.Grouper(key='ts', freq=freq)],as_index=True).size()    \n",
    "df_indexed_count = df_indexed_count.reset_index()  \n",
    "df_indexed_count.rename(columns ={0:'CI'},inplace=True)\n",
    "df_indexed_count['CI'] += df_indexed_count['fatalities']\n",
    "df_indexed_count = df_indexed_count.sort_values(by=['ts'])"
   ]
  },
  {
   "cell_type": "code",
   "execution_count": null,
   "metadata": {},
   "outputs": [],
   "source": [
    "df_indexed_count.head()"
   ]
  },
  {
   "cell_type": "code",
   "execution_count": null,
   "metadata": {},
   "outputs": [],
   "source": [
    "############################################################################################\n",
    "# Create our data as dictionary for easy access composed of tuples (heatmap, coords) selected by date key\n",
    "############################################################################################\n",
    "heat_data = {}\n",
    "\n",
    "for ts in df_indexed_count.ts.unique():\n",
    "    \n",
    "    #print(\"Processing data: {0}\".format(ts))   \n",
    "\n",
    "    # Select data just for this timestamp\n",
    "    points_by_date = df_indexed_count[df_indexed_count.ts == ts]\n",
    "    # Create heatmap\n",
    "    heatmap = np.zeros(grid)\n",
    "    \n",
    "    # Get incident coordinates\n",
    "    conf_coords = []\n",
    "    \n",
    "    # Parse crime incident and heatmap\n",
    "    for index, row in points_by_date.iterrows():\n",
    "        conf_coords.append((row['grid_w'],row['grid_h']))\n",
    "        \n",
    "        heatmap[int(row['grid_w'])][int(row['grid_h'])] += row['CI']\n",
    "    \n",
    "    conf_coords = np.asarray(conf_coords)\n",
    "    \n",
    "    # Store tuple heatmap and crime coordinates on dictionary\n",
    "    heat_data[pd.to_datetime(ts)] = (heatmap, conf_coords)\n",
    "\n",
    "print(\"Data size: {0}\".format(len(heat_data)))"
   ]
  },
  {
   "cell_type": "code",
   "execution_count": null,
   "metadata": {},
   "outputs": [],
   "source": [
    "heat_df = pd.DataFrame(heat_data).T\n",
    "heat_df.columns = ['heatmap','coords']"
   ]
  },
  {
   "cell_type": "code",
   "execution_count": null,
   "metadata": {},
   "outputs": [],
   "source": [
    "heat_df.head(1)"
   ]
  },
  {
   "cell_type": "code",
   "execution_count": null,
   "metadata": {},
   "outputs": [],
   "source": [
    "# Write to csv\n",
    "dpath = {}\n",
    "dpath['home'] = './data/conflicts'\n",
    "dpath['subfolder'] = 'output'\n",
    "dpath['filename'] = 'Somalia-Conflicts-2010-2019-64x64grid-weekly.csv'\n",
    "heat_df.to_csv(os.path.join(dpath['home'],dpath['subfolder'],dpath['filename']))"
   ]
  },
  {
   "cell_type": "code",
   "execution_count": null,
   "metadata": {},
   "outputs": [],
   "source": [
    "# # number of missing dates per year\n",
    "\n",
    "# dti = pd.date_range(start = '1991-01-01', end = '2019-09-28' ).difference(heat_df.index)\n",
    "# from collections import Counter\n",
    "# Counter([str(i)[0:4] for i in list(dti)])"
   ]
  },
  {
   "cell_type": "code",
   "execution_count": null,
   "metadata": {},
   "outputs": [],
   "source": [
    "############################################################################################\n",
    "# Plot some samples\n",
    "############################################################################################\n",
    "\n",
    "# last 100 weeks\n",
    "n_samples = heat_df.shape[0]\n",
    "heat_df = heat_df[-100:]\n",
    "\n",
    "for i in range(100):\n",
    "\n",
    "    # randomly select a sample\n",
    "#     date = list(data.keys())[i]\n",
    "    date = heat_df.index[i]\n",
    "    datestring = str(date).split(' ')[0]\n",
    "    \n",
    "    # Get heatmap aggregation and incident coordinates\n",
    "    coords = heat_df.loc[date,'coords']\n",
    "    heatmap = heat_df.loc[date,'heatmap']\n",
    "    \n",
    "    # define the size of images\n",
    "    f, ax = plt.subplots()\n",
    "    f.set_figwidth(6)\n",
    "    f.set_figheight(6)\n",
    "    \n",
    "    ax.set_title(\"Heatmap: {0}\".format(date))\n",
    "    imtitle = \"Heatmap-{}\".format(datestring) + '.png'\n",
    "    \n",
    "    ax.scatter(x=coords[:,1],y=coords[:,0], marker='x', s=30, color='green') \n",
    "    ax.matshow(heatmap, cmap='jet',aspect = ax.get_aspect(), extent = (0,map_height) + (map_width,0))\n",
    "    \n",
    "    dpath = {}\n",
    "    dpath['home'] = './data/conflicts'\n",
    "    dpath['subfolder'] = 'images/weekly'\n",
    "    dpath['filename'] = imtitle\n",
    "\n",
    "    f.savefig(os.path.join(dpath['home'],dpath['subfolder'],dpath['filename']))"
   ]
  },
  {
   "cell_type": "code",
   "execution_count": null,
   "metadata": {},
   "outputs": [],
   "source": []
  }
 ],
 "metadata": {
  "kernelspec": {
   "display_name": "(Python Safecity)",
   "language": "python",
   "name": "safecity"
  },
  "language_info": {
   "codemirror_mode": {
    "name": "ipython",
    "version": 3
   },
   "file_extension": ".py",
   "mimetype": "text/x-python",
   "name": "python",
   "nbconvert_exporter": "python",
   "pygments_lexer": "ipython3",
   "version": "3.7.3"
  }
 },
 "nbformat": 4,
 "nbformat_minor": 2
}
