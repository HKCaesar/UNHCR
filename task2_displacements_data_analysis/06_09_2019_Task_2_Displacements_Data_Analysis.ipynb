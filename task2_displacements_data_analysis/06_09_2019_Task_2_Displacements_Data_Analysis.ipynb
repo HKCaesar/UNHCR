{
 "cells": [
  {
   "cell_type": "markdown",
   "metadata": {},
   "source": [
    "Basic (priliminary) exploratory analysis for dependence between reason and priority reasons & displacement between regions. Will be updated."
   ]
  },
  {
   "cell_type": "code",
   "execution_count": 3,
   "metadata": {},
   "outputs": [
    {
     "name": "stdout",
     "output_type": "stream",
     "text": [
      "    Month End  Year Week Current (Arrival) Region Current (Arrival) District  \\\n",
      "0  31/01/2016     201601                    Awdal                     Borama   \n",
      "1  31/01/2016     201601                    Awdal                     Borama   \n",
      "2  31/01/2016     201602                    Awdal                     Borama   \n",
      "3  31/01/2016     201604                    Awdal                     Borama   \n",
      "4  31/01/2016     201604                    Awdal                     Borama   \n",
      "\n",
      "  Previous (Departure) Region Previous (Departure) District           Reason  \\\n",
      "0                      Bakool                     Tayeeglow  Drought related   \n",
      "1                     Banadir                       Banadir  Drought related   \n",
      "2                     Banadir                       Banadir  Drought related   \n",
      "3                     Banadir                       Banadir  Drought related   \n",
      "4                     Banadir                       Banadir  Drought related   \n",
      "\n",
      "  Current (Arrival) Priority Need  Number of Individuals  \n",
      "0              Livelihood Support                      7  \n",
      "1              Livelihood Support                      7  \n",
      "2              Livelihood Support                      8  \n",
      "3              Livelihood Support                      5  \n",
      "4              Livelihood Support                      6  \n"
     ]
    }
   ],
   "source": [
    "# Read data\n",
    "import os\n",
    "import pandas\n",
    "os.chdir('/home/robin/Documents/Omdena/')\n",
    "dataset = pandas.read_csv('1_Displacement_Data/UNHCR-PRMN-Displacement-Dataset.csv')\n",
    "dataset_head = dataset.head()\n",
    "print(dataset_head)"
   ]
  },
  {
   "cell_type": "code",
   "execution_count": 4,
   "metadata": {},
   "outputs": [
    {
     "name": "stdout",
     "output_type": "stream",
     "text": [
      "    Month_End  Year_Week Current_Arrival_Region Current_Arrival_District  \\\n",
      "0  31/01/2016     201601                  Awdal                   Borama   \n",
      "1  31/01/2016     201601                  Awdal                   Borama   \n",
      "2  31/01/2016     201602                  Awdal                   Borama   \n",
      "3  31/01/2016     201604                  Awdal                   Borama   \n",
      "4  31/01/2016     201604                  Awdal                   Borama   \n",
      "\n",
      "  Previous_Departure_Region Previous_Departure_District           Reason  \\\n",
      "0                    Bakool                   Tayeeglow  Drought related   \n",
      "1                   Banadir                     Banadir  Drought related   \n",
      "2                   Banadir                     Banadir  Drought related   \n",
      "3                   Banadir                     Banadir  Drought related   \n",
      "4                   Banadir                     Banadir  Drought related   \n",
      "\n",
      "  Current_Arrival_Priority_Need  Number_of_Individuals  \n",
      "0            Livelihood Support                      7  \n",
      "1            Livelihood Support                      7  \n",
      "2            Livelihood Support                      8  \n",
      "3            Livelihood Support                      5  \n",
      "4            Livelihood Support                      6  \n"
     ]
    }
   ],
   "source": [
    "dataset.columns = [var.replace(' ', '_') for var in dataset.columns]\n",
    "dataset.columns = [var.replace('(', '') for var in dataset.columns]\n",
    "dataset.columns = [var.replace(')', '') for var in dataset.columns]\n",
    "dataset_head = dataset.head()\n",
    "print(dataset_head)"
   ]
  },
  {
   "cell_type": "code",
   "execution_count": 5,
   "metadata": {},
   "outputs": [
    {
     "name": "stdout",
     "output_type": "stream",
     "text": [
      "Reason                         Conflict/Insecurity  Drought related  Flood  \\\n",
      "Current_Arrival_Priority_Need                                                \n",
      "Food                                          3126             9192    352   \n",
      "Health                                         299             1074     27   \n",
      "Humanitarian Aid                               212              631     15   \n",
      "Livelihood Support                            1512             6244    122   \n",
      "Other                                          749              920     43   \n",
      "Protection                                     515              158      2   \n",
      "Shelter                                       1517             2117    159   \n",
      "Transport                                       46              623      0   \n",
      "Water                                          379             1773     34   \n",
      "\n",
      "Reason                         Other  \n",
      "Current_Arrival_Priority_Need         \n",
      "Food                             953  \n",
      "Health                           354  \n",
      "Humanitarian Aid                  76  \n",
      "Livelihood Support               793  \n",
      "Other                             80  \n",
      "Protection                        37  \n",
      "Shelter                          412  \n",
      "Transport                         89  \n",
      "Water                            177  \n"
     ]
    }
   ],
   "source": [
    "# Find if there is relation between reason and arrival_priority_need\n",
    "table1 = pandas.crosstab(index=dataset.Current_Arrival_Priority_Need,\n",
    "                          columns=dataset.Reason) # Crosstab\n",
    "print(table1)"
   ]
  },
  {
   "cell_type": "code",
   "execution_count": 27,
   "metadata": {},
   "outputs": [
    {
     "name": "stdout",
     "output_type": "stream",
     "text": [
      "2597.4301538921636 0.0\n"
     ]
    }
   ],
   "source": [
    "from scipy.stats import chi2_contingency\n",
    "chi2, p, dof, expected = chi2_contingency(table1)\n",
    "print(chi2, p)"
   ]
  },
  {
   "cell_type": "markdown",
   "metadata": {},
   "source": [
    "p-value significant"
   ]
  },
  {
   "cell_type": "code",
   "execution_count": 48,
   "metadata": {},
   "outputs": [
    {
     "data": {
      "text/plain": [
       "0.15698195532879447"
      ]
     },
     "execution_count": 48,
     "metadata": {},
     "output_type": "execute_result"
    }
   ],
   "source": [
    "# Find extent of dependence between these two variables\n",
    "confusion_matrix = table1\n",
    "import numpy as np\n",
    "def cramers_v(confusion_matrix, chi2):\n",
    "    chi2\n",
    "    n = confusion_matrix.sum().sum()\n",
    "    phi2 = chi2/n\n",
    "    r,k = confusion_matrix.shape\n",
    "    phi2corr = max(0, phi2 - ((k-1)*(r-1))/(n-1))    \n",
    "    rcorr = r - ((r-1)**2)/(n-1)\n",
    "    kcorr = k - ((k-1)**2)/(n-1)\n",
    "    return(np.sqrt(phi2corr / min( (kcorr-1), (rcorr-1))))\n",
    "cramers_v(table1, chi2)"
   ]
  },
  {
   "cell_type": "markdown",
   "metadata": {},
   "source": [
    "Cramer's V ranges between 0 and 1, 1 meaning both variables are inclusive (i.e. complete dependence)\n",
    "\n",
    "If intention to go further in this direction, further analysis can be done in finding out which reason demands which priority need. "
   ]
  },
  {
   "cell_type": "code",
   "execution_count": 6,
   "metadata": {},
   "outputs": [],
   "source": [
    "# \n",
    "table2 = pandas.crosstab(index=dataset.Current_Arrival_Region,\n",
    "                          columns=dataset.Previous_Departure_Region) # Crosstab"
   ]
  },
  {
   "cell_type": "code",
   "execution_count": 21,
   "metadata": {},
   "outputs": [
    {
     "data": {
      "text/plain": [
       "<function matplotlib.pyplot.show(*args, **kw)>"
      ]
     },
     "execution_count": 21,
     "metadata": {},
     "output_type": "execute_result"
    },
    {
     "data": {
      "image/png": "[encoded data removed]",
      "text/plain": [
       "<Figure size 432x288 with 2 Axes>"
      ]
     },
     "metadata": {
      "needs_background": "light"
     },
     "output_type": "display_data"
    }
   ],
   "source": [
    "import seaborn as sns\n",
    "plt.figure()\n",
    "ax=sns.heatmap(table2, cmap=\"YlGnBu\", cbar=True, annot = False);ax.axes.set_title(\"Arrival and departure regions\",fontsize=15)\n",
    "plt.show"
   ]
  },
  {
   "cell_type": "markdown",
   "metadata": {},
   "source": [
    "For those regions that have more exchange of people due to displacements, we can find if they are geographically close to each other or displacement is also happening regardless of distance between regions."
   ]
  }
 ],
 "metadata": {
  "kernelspec": {
   "display_name": "Python 3",
   "language": "python",
   "name": "python3"
  },
  "language_info": {
   "codemirror_mode": {
    "name": "ipython",
    "version": 3
   },
   "file_extension": ".py",
   "mimetype": "text/x-python",
   "name": "python",
   "nbconvert_exporter": "python",
   "pygments_lexer": "ipython3",
   "version": "3.6.7"
  }
 },
 "nbformat": 4,
 "nbformat_minor": 2
}
